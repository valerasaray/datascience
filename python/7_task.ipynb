{
 "cells": [
  {
   "cell_type": "markdown",
   "id": "d89e88d8",
   "metadata": {},
   "source": [
    "# Самостоятельное задание #7\n",
    "\n",
    "\n",
    "### Задание 1\n",
    "\n",
    "Допишите функцию, которая принимает список чисел и, с помощью множеств, определяет количество различных чисел внутри списка."
   ]
  },
  {
   "cell_type": "code",
   "execution_count": 3,
   "id": "1b443f02",
   "metadata": {},
   "outputs": [
    {
     "data": {
      "text/plain": "5"
     },
     "execution_count": 3,
     "metadata": {},
     "output_type": "execute_result"
    }
   ],
   "source": [
    "def f(a):\n",
    "    return len(set(a))\n",
    "\n",
    "f([1, 2, 3, 4, 3, 5])"
   ]
  },
  {
   "cell_type": "markdown",
   "id": "89118666",
   "metadata": {},
   "source": [
    "### Задание 2\n",
    "\n",
    "Допишите функцию, которая принимает несколько списков чисел и, с помощью множеств, определяет количество общих чисел из первого и второго списка."
   ]
  },
  {
   "cell_type": "code",
   "execution_count": 6,
   "id": "9ad5e3fd",
   "metadata": {},
   "outputs": [
    {
     "data": {
      "text/plain": "3"
     },
     "execution_count": 6,
     "metadata": {},
     "output_type": "execute_result"
    }
   ],
   "source": [
    "def f(a, b):\n",
    "    return len(set(a) & set(b))\n",
    "\n",
    "f([1, 2, 3], [1, 2, 4, 3, 5])"
   ]
  },
  {
   "cell_type": "code",
   "execution_count": null,
   "outputs": [],
   "source": [],
   "metadata": {
    "collapsed": false,
    "pycharm": {
     "name": "#%%\n"
    }
   }
  }
 ],
 "metadata": {
  "kernelspec": {
   "display_name": "Python 3",
   "language": "python",
   "name": "python3"
  },
  "language_info": {
   "codemirror_mode": {
    "name": "ipython",
    "version": 3
   },
   "file_extension": ".py",
   "mimetype": "text/x-python",
   "name": "python",
   "nbconvert_exporter": "python",
   "pygments_lexer": "ipython3",
   "version": "3.9.7"
  }
 },
 "nbformat": 4,
 "nbformat_minor": 5
}